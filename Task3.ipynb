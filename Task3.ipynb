{
  "metadata": {
    "kernelspec": {
      "name": "python",
      "display_name": "Python (Pyodide)",
      "language": "python"
    },
    "language_info": {
      "codemirror_mode": {
        "name": "python",
        "version": 3
      },
      "file_extension": ".py",
      "mimetype": "text/x-python",
      "name": "python",
      "nbconvert_exporter": "python",
      "pygments_lexer": "ipython3",
      "version": "3.8"
    }
  },
  "nbformat_minor": 4,
  "nbformat": 4,
  "cells": [
    {
      "cell_type": "code",
      "source": "\n# 3a\nimport re\n\n# Define the text\ntext = \"\"\"As a term, data analytics predominantly refers to an assortment of applications, from basic business\nintelligence (BI), reporting and online analytical processing (OLAP) to various forms of advanced\nanalytics. In that sense, it's similar in nature to business analytics, another umbrella term for\napproaches to analyzing data -- with the difference that the latter is oriented to business uses, while\ndata analytics has a broader focus. The expansive view of the term isn't universal, though: In some\ncases, people use data analytics specifically to mean advanced analytics, treating BI as a separate\ncategory. Data analytics initiatives can help businesses increase revenues, improve operational\nefficiency, optimize marketing campaigns and customer service efforts, respond more quickly to\nemerging market trends and gain a competitive edge over rivals -- all with the ultimate goal of\nboosting business performance. Depending on the particular application, the data that's analyzed\ncan consist of either historical records or new information that has been processed for real-time\nanalytics uses. In addition, it can come from a mix of internal systems and external data sources. At\na high level, data analytics methodologies include exploratory data analysis (EDA), which aims to find\npatterns and relationships in data, and confirmatory data analysis (CDA), which applies statistical\ntechniques to determine whether hypotheses about a data set are true or false. EDA is often\ncompared to detective work, while CDA is akin to the work of a judge or jury during a court trial -- a\ndistinction first drawn by statistician John W. Tukey in his 1977 book Exploratory Data Analysis. Data\nanalytics can also be separated into quantitative data analysis and qualitative data analysis. The\nformer involves analysis of numerical data with quantifiable variables that can be compared or\nmeasured statistically. The qualitative approach is more interpretive -- it focuses on understanding\nthe content of non-numerical data like text, images, audio and video, including common phrases,\nthemes and points of view.\"\"\"\n\n# Split the text into lines\nlines = text.split('\\n')\n\n# Calculate the probability of \"data\" occurring in each line\nfor line in lines:\n    words = re.findall(r'\\b\\w+\\b', line.lower())\n    word_count = len(words)\n    data_count = words.count('data')\n    probability = data_count / word_count \n    print(\"Probability of 'data' in the line \" + \"'\" + line + \"'\" + \": \" + str(probability))",
      "metadata": {
        "trusted": true
      },
      "outputs": [
        {
          "name": "stdout",
          "text": "Probability of 'data' in the line 'As a term, data analytics predominantly refers to an assortment of applications, from basic business': 0.06666666666666667\nProbability of 'data' in the line 'intelligence (BI), reporting and online analytical processing (OLAP) to various forms of advanced': 0.0\nProbability of 'data' in the line 'analytics. In that sense, it's similar in nature to business analytics, another umbrella term for': 0.0\nProbability of 'data' in the line 'approaches to analyzing data -- with the difference that the latter is oriented to business uses, while': 0.0625\nProbability of 'data' in the line 'data analytics has a broader focus. The expansive view of the term isn't universal, though: In some': 0.05555555555555555\nProbability of 'data' in the line 'cases, people use data analytics specifically to mean advanced analytics, treating BI as a separate': 0.06666666666666667\nProbability of 'data' in the line 'category. Data analytics initiatives can help businesses increase revenues, improve operational': 0.09090909090909091\nProbability of 'data' in the line 'efficiency, optimize marketing campaigns and customer service efforts, respond more quickly to': 0.0\nProbability of 'data' in the line 'emerging market trends and gain a competitive edge over rivals -- all with the ultimate goal of': 0.0\nProbability of 'data' in the line 'boosting business performance. Depending on the particular application, the data that's analyzed': 0.07692307692307693\nProbability of 'data' in the line 'can consist of either historical records or new information that has been processed for real-time': 0.0\nProbability of 'data' in the line 'analytics uses. In addition, it can come from a mix of internal systems and external data sources. At': 0.05555555555555555\nProbability of 'data' in the line 'a high level, data analytics methodologies include exploratory data analysis (EDA), which aims to find': 0.13333333333333333\nProbability of 'data' in the line 'patterns and relationships in data, and confirmatory data analysis (CDA), which applies statistical': 0.15384615384615385\nProbability of 'data' in the line 'techniques to determine whether hypotheses about a data set are true or false. EDA is often': 0.0625\nProbability of 'data' in the line 'compared to detective work, while CDA is akin to the work of a judge or jury during a court trial -- a': 0.0\nProbability of 'data' in the line 'distinction first drawn by statistician John W. Tukey in his 1977 book Exploratory Data Analysis. Data': 0.125\nProbability of 'data' in the line 'analytics can also be separated into quantitative data analysis and qualitative data analysis. The': 0.14285714285714285\nProbability of 'data' in the line 'former involves analysis of numerical data with quantifiable variables that can be compared or': 0.07142857142857142\nProbability of 'data' in the line 'measured statistically. The qualitative approach is more interpretive -- it focuses on understanding': 0.0\nProbability of 'data' in the line 'the content of non-numerical data like text, images, audio and video, including common phrases,': 0.06666666666666667\nProbability of 'data' in the line 'themes and points of view.': 0.0\n",
          "output_type": "stream"
        }
      ],
      "execution_count": 1
    },
    {
      "cell_type": "code",
      "source": "#3b\n# Calculate distinct word counts for each line\ndistinct_word_counts = []\n\nfor line in lines:\n    distinct_words = set(re.findall(r'\\b\\w+\\b', line.lower()))\n    distinct_word_counts.append(len(distinct_words))\n\n# Print the distribution\nprint(\"Distribution of distinct word counts across all lines:\")\nprint(dict(zip(range(1, len(distinct_word_counts)+1), distinct_word_counts)))",
      "metadata": {
        "trusted": true
      },
      "outputs": [
        {
          "name": "stdout",
          "text": "Distribution of distinct word counts across all lines:\n{1: 15, 2: 13, 3: 14, 4: 14, 5: 17, 6: 14, 7: 11, 8: 12, 9: 16, 10: 12, 11: 16, 12: 18, 13: 14, 14: 11, 15: 16, 16: 17, 17: 15, 18: 12, 19: 14, 20: 12, 21: 15, 22: 5}\n",
          "output_type": "stream"
        }
      ],
      "execution_count": 2
    },
    {
      "cell_type": "code",
      "source": "#3c\n# Calculate the probability of \"analytics\" occurring after \"data\"\ncount_data_analytics = 0\ncount_data = 0\nfor line in lines:\n    words = re.findall(r'\\b\\w+\\b', line.lower())\n    count_data += words.count('data')\n    count_data_analytics += sum(1 for i, word in enumerate(words) if word == 'analytics' and i > 0 and words[i-1] == 'data')\n\nprobability_analytics_after_data = count_data_analytics / count_data if count_data > 0 else 0\nprint(f\"Probability of 'analytics' occurring after 'data': {probability_analytics_after_data}\")",
      "metadata": {
        "trusted": true
      },
      "outputs": [
        {
          "name": "stdout",
          "text": "Probability of 'analytics' occurring after 'data': 0.2777777777777778\n",
          "output_type": "stream"
        }
      ],
      "execution_count": 3
    },
    {
      "cell_type": "code",
      "source": "",
      "metadata": {
        "trusted": true
      },
      "outputs": [],
      "execution_count": null
    },
    {
      "cell_type": "code",
      "source": "",
      "metadata": {
        "trusted": true
      },
      "outputs": [],
      "execution_count": null
    }
  ]
}